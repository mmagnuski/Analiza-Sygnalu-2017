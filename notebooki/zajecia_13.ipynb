{
 "cells": [
  {
   "cell_type": "markdown",
   "metadata": {},
   "source": [
    "# Pustka\n",
    "Tym razem zaczynacie z pustym notebookiem. To trochę symulacja sytuacji przeprowadzania projektu. Dzisiaj przerobimy przede wszystkim:\n",
    "* organizacja kodu z poprzednich zajęć - tworzymy funkcję która wczytuje dane i robi tfr\n",
    "* pętla przez osoby badane - robimy tfr dla wszystkich osób\n",
    "* uśrednianie tfr - aby otrzymać między innymi średnie wykresy tfr\n",
    "* selekcja regionów zainteresowania\n",
    "* analiza\n",
    "\n",
    "Ostatni punkt, wraz z wielokrotnymi porównaniami omówimy jeszcze w przyszłym tygodniu. To będzie ostatnia cegła do twierdzy waszych kompetencji przed Wami pozostanie tylko zabawa z projektem."
   ]
  },
  {
   "cell_type": "markdown",
   "metadata": {},
   "source": [
    "## Zadanie 01\n",
    "Stwórz w tym notebook'u najpierw dwie komórki:\n",
    "* w pierwszej umieść wszystkie potrzebne importy\n",
    "* w drugiej zaś kod, którym wczytasz jeden plik oraz utworzysz dla niego tfr\n",
    "Potrzebny kod znajdziesz w notebook'u z ostatnich zajęć. Spróbuj wybrać to co potrzebne oraz zrobić kosmetyczną zmianę tak aby kod robił tfr dla obu warunków razem. To ważne - druga komórka ma robić tfr bez podziału na warunki - dla obu warunków łącznie!"
   ]
  },
  {
   "cell_type": "code",
   "execution_count": 1,
   "metadata": {
    "collapsed": true
   },
   "outputs": [],
   "source": [
    "import os\n",
    "import numpy as np\n",
    "import matplotlib.pyplot as plt\n",
    "\n",
    "import mne\n",
    "from mne.time_frequency import tfr_morlet\n",
    "\n",
    "%matplotlib inline"
   ]
  },
  {
   "cell_type": "code",
   "execution_count": 2,
   "metadata": {},
   "outputs": [
    {
     "name": "stdout",
     "output_type": "stream",
     "text": [
      "Reading sternberg_diam_105_AK-epo.fif ...\n",
      "    Found the data of interest:\n",
      "        t =    -500.00 ...    1500.00 ms\n",
      "        0 CTF compensation matrices available\n",
      "75 matching events found\n",
      "Applying baseline correction (mode: mean)\n",
      "Not setting metadata\n",
      "75 matching events found\n",
      "Applying baseline correction (mode: mean)\n",
      "Not setting metadata\n",
      "0 projection items activated\n"
     ]
    },
    {
     "name": "stderr",
     "output_type": "stream",
     "text": [
      "[Parallel(n_jobs=3)]: Done  12 tasks      | elapsed:    1.5s\n",
      "[Parallel(n_jobs=3)]: Done  64 out of  64 | elapsed:    2.6s finished\n"
     ]
    }
   ],
   "source": [
    "os.chdir(r'C:\\Users\\Sarenka\\Dropbox\\Sarenka\\ZAJECIA\\Analiza Danych EEG 2017 - 2018\\dane\\group analysis')\n",
    "files = os.listdir()\n",
    "epochs = mne.read_epochs(files[11], preload=True)\n",
    "sfreq = epochs.info['sfreq']\n",
    "\n",
    "freq = np.arange(3, 20)\n",
    "n_cycles = freq / 2.5\n",
    "tfr = tfr_morlet(epochs, freq, n_cycles, use_fft=True,\n",
    "                 return_itc=False, n_jobs=3, decim=20)"
   ]
  },
  {
   "cell_type": "markdown",
   "metadata": {},
   "source": [
    "## Zadanie 02\n",
    "Przekształć teraz kod z drugiej komórki w funkcję, która przyjmuje nazwę pliku oraz zwraca tfr dla tego pliku.\n",
    "Przypominam, że funkcje piszemy tak:\n",
    "```python\n",
    "def nazwa_funkcji(argument1, argument2):\n",
    "    # cośtam cośtam\n",
    "    # cośtam cośtam\n",
    "    return jakiś_wynik\n",
    "```\n",
    "w Waszym wypadku 'sygnatura' funkcji będzie taka:\n",
    "```python\n",
    "def daj_mnie_ten_tfr(nazwa_pliku):\n",
    "    # wczytanie pliku\n",
    "    # definicja zmiennych do analizy tfr\n",
    "    # analiza tfr\n",
    "    return tfr\n",
    "```"
   ]
  },
  {
   "cell_type": "code",
   "execution_count": 3,
   "metadata": {
    "collapsed": true
   },
   "outputs": [],
   "source": [
    "def daj_mnie_ten_tfr(nazwa_pliku):\n",
    "    epochs = mne.read_epochs(nazwa_pliku, preload=True)\n",
    "\n",
    "    freq = np.arange(3, 20)\n",
    "    n_cycles = freq / 2.5\n",
    "    tfr = tfr_morlet(epochs, freq, n_cycles, use_fft=True,\n",
    "                     return_itc=False, n_jobs=3, decim=20)\n",
    "    return tfr"
   ]
  },
  {
   "cell_type": "code",
   "execution_count": 4,
   "metadata": {},
   "outputs": [
    {
     "name": "stdout",
     "output_type": "stream",
     "text": [
      "Reading sternberg_diam_103_AK-epo.fif ...\n",
      "    Found the data of interest:\n",
      "        t =    -500.00 ...    1500.00 ms\n",
      "        0 CTF compensation matrices available\n",
      "91 matching events found\n",
      "Applying baseline correction (mode: mean)\n",
      "Not setting metadata\n",
      "91 matching events found\n",
      "Applying baseline correction (mode: mean)\n",
      "Not setting metadata\n",
      "0 projection items activated\n"
     ]
    },
    {
     "name": "stderr",
     "output_type": "stream",
     "text": [
      "[Parallel(n_jobs=3)]: Done  12 tasks      | elapsed:    1.5s\n",
      "[Parallel(n_jobs=3)]: Done  59 out of  64 | elapsed:    2.6s remaining:    0.1s\n",
      "[Parallel(n_jobs=3)]: Done  64 out of  64 | elapsed:    2.7s finished\n"
     ]
    }
   ],
   "source": [
    "tfr2 = daj_mnie_ten_tfr(files[10])"
   ]
  },
  {
   "cell_type": "markdown",
   "metadata": {},
   "source": [
    "## Zadanie 03\n",
    "Wreszcie gdy mamy już interesującą nas funkcję, spróbujemy wykonać ją dla wszystkich plików. Ale dojdziemy do tego krok po kroku.\n",
    "### Krok 1\n",
    "Wyobraźmy sobie, że mamy listę plików o nazwie `files` jak napisać pętlę aby robiła coś kolejno z nazwami plików?  \n",
    "Na przykładzie funkcji print:"
   ]
  },
  {
   "cell_type": "code",
   "execution_count": 1,
   "metadata": {
    "collapsed": true
   },
   "outputs": [],
   "source": [
    "files = ['plik1.fif', 'plik2.fif', 'jakiś dziwny plik.png',\n",
    "         'Jak python zmienił moje życie - wypracowanie.docx']"
   ]
  },
  {
   "cell_type": "code",
   "execution_count": 2,
   "metadata": {},
   "outputs": [
    {
     "name": "stdout",
     "output_type": "stream",
     "text": [
      "plik1.fif\n",
      "plik2.fif\n",
      "jakiś dziwny plik.png\n",
      "Jak python zmienił moje życie - wyprawcowanie.docx\n"
     ]
    }
   ],
   "source": [
    "for this_file in files:\n",
    "    print(this_file)"
   ]
  },
  {
   "cell_type": "code",
   "execution_count": 3,
   "metadata": {},
   "outputs": [
    {
     "name": "stdout",
     "output_type": "stream",
     "text": [
      "pi1ff\n",
      "pi2ff\n",
      "jkśdin lkpg\n",
      "Jkpto mei oeżce-wpacwnedc\n"
     ]
    }
   ],
   "source": [
    "for this_file in files:\n",
    "    print(this_file[::2])"
   ]
  },
  {
   "cell_type": "markdown",
   "metadata": {},
   "source": [
    "W waszym wypadku wystarczy podmienić funkcję `print` na Waszą funkcję do wczytywania pliku i robienia tfr.  \n",
    "\n",
    "### Krok 2\n",
    "Pozostaje jeszcze jedna sprawa - chcielibyśmy jakoś agregować te tfr-y na przykład zbierać do jednej listy.  \n",
    "Całe szczęście nie jest to trudne. Poniżej konkretny przykład, weźmy najpierw funkcję, która zwraca nam trzy\n",
    "losowe liczby:"
   ]
  },
  {
   "cell_type": "code",
   "execution_count": 4,
   "metadata": {
    "collapsed": true
   },
   "outputs": [],
   "source": [
    "import numpy as np\n",
    "\n",
    "def three_random():\n",
    "    return np.random.rand(3)"
   ]
  },
  {
   "cell_type": "code",
   "execution_count": 5,
   "metadata": {},
   "outputs": [
    {
     "data": {
      "text/plain": [
       "array([0.33270893, 0.61921339, 0.85700122])"
      ]
     },
     "execution_count": 5,
     "metadata": {},
     "output_type": "execute_result"
    }
   ],
   "source": [
    "three_random()"
   ]
  },
  {
   "cell_type": "code",
   "execution_count": 6,
   "metadata": {},
   "outputs": [
    {
     "data": {
      "text/plain": [
       "array([0.77534818, 0.67226044, 0.33410465])"
      ]
     },
     "execution_count": 6,
     "metadata": {},
     "output_type": "execute_result"
    }
   ],
   "source": [
    "three_random()"
   ]
  },
  {
   "cell_type": "markdown",
   "metadata": {},
   "source": [
    "Za każdym razem wektor trzech losowych liczb między zero a jeden. Teraz chcemy wykonać tę funkcję pięć razy i każdy z pięciu kolejnych wyników przechowywać w liście `liczby`."
   ]
  },
  {
   "cell_type": "code",
   "execution_count": 7,
   "metadata": {
    "collapsed": true
   },
   "outputs": [],
   "source": [
    "# tworzymy pustą listę:\n",
    "liczby = list()\n",
    "\n",
    "# pięć razy ...\n",
    "for i in range(5):\n",
    "    # uruchamiany naszą funkcję:\n",
    "    trzy = three_random()\n",
    "    \n",
    "    # a następnie doklejamy jej wynik do listy 'liczby':\n",
    "    liczby.append(trzy)"
   ]
  },
  {
   "cell_type": "code",
   "execution_count": 8,
   "metadata": {},
   "outputs": [
    {
     "data": {
      "text/plain": [
       "[array([0.50266703, 0.33421762, 0.59706877]),\n",
       " array([0.68342066, 0.33242564, 0.49359561]),\n",
       " array([0.76438025, 0.9343985 , 0.22734359]),\n",
       " array([0.49356043, 0.12667151, 0.421795  ]),\n",
       " array([0.10468988, 0.81883416, 0.01626112])]"
      ]
     },
     "execution_count": 8,
     "metadata": {},
     "output_type": "execute_result"
    }
   ],
   "source": [
    "liczby"
   ]
  },
  {
   "cell_type": "code",
   "execution_count": 10,
   "metadata": {},
   "outputs": [
    {
     "data": {
      "text/plain": [
       "[array([0.49356043, 0.12667151, 0.421795  ]),\n",
       " array([0.10468988, 0.81883416, 0.01626112])]"
      ]
     },
     "execution_count": 10,
     "metadata": {},
     "output_type": "execute_result"
    }
   ],
   "source": [
    "liczby[-2:]"
   ]
  },
  {
   "cell_type": "markdown",
   "metadata": {},
   "source": [
    "W ten sam sposób chcecie wykonywać na kolejnych plikach waszą funkcję do tfr-ów a następnie doklejać je do listy."
   ]
  },
  {
   "cell_type": "markdown",
   "metadata": {},
   "source": [
    "### Krok 3\n",
    "Twoja kolej, czas przeanalizować te dane! Uzupełnij kod poniżej:"
   ]
  },
  {
   "cell_type": "code",
   "execution_count": 6,
   "metadata": {},
   "outputs": [
    {
     "name": "stdout",
     "output_type": "stream",
     "text": [
      "Reading sternberg_diam_025_AK-epo.fif ...\n",
      "    Found the data of interest:\n",
      "        t =    -500.00 ...    1500.00 ms\n",
      "        0 CTF compensation matrices available\n",
      "91 matching events found\n",
      "Applying baseline correction (mode: mean)\n",
      "Not setting metadata\n",
      "91 matching events found\n",
      "Applying baseline correction (mode: mean)\n",
      "Not setting metadata\n",
      "0 projection items activated\n"
     ]
    },
    {
     "name": "stderr",
     "output_type": "stream",
     "text": [
      "[Parallel(n_jobs=3)]: Done  12 tasks      | elapsed:    1.6s\n"
     ]
    },
    {
     "name": "stdout",
     "output_type": "stream",
     "text": [
      "Reading sternberg_diam_030_AK-epo.fif ...\n",
      "    Found the data of interest:\n",
      "        t =    -500.00 ...    1500.00 ms\n",
      "        0 CTF compensation matrices available\n",
      "86 matching events found\n",
      "Applying baseline correction (mode: mean)\n",
      "Not setting metadata\n"
     ]
    },
    {
     "name": "stderr",
     "output_type": "stream",
     "text": [
      "[Parallel(n_jobs=3)]: Done  64 out of  64 | elapsed:    2.8s finished\n"
     ]
    },
    {
     "name": "stdout",
     "output_type": "stream",
     "text": [
      "86 matching events found\n",
      "Applying baseline correction (mode: mean)\n",
      "Not setting metadata\n",
      "0 projection items activated\n"
     ]
    },
    {
     "name": "stderr",
     "output_type": "stream",
     "text": [
      "[Parallel(n_jobs=3)]: Done  12 tasks      | elapsed:    1.4s\n"
     ]
    },
    {
     "name": "stdout",
     "output_type": "stream",
     "text": [
      "Reading sternberg_diam_037_AK-epo.fif ...\n",
      "    Found the data of interest:\n",
      "        t =    -500.00 ...    1500.00 ms\n",
      "        0 CTF compensation matrices available\n",
      "93 matching events found\n",
      "Applying baseline correction (mode: mean)\n",
      "Not setting metadata\n",
      "93 matching events found\n",
      "Applying baseline correction (mode: mean)\n",
      "Not setting metadata\n",
      "0 projection items activated\n"
     ]
    },
    {
     "name": "stderr",
     "output_type": "stream",
     "text": [
      "[Parallel(n_jobs=3)]: Done  64 out of  64 | elapsed:    2.5s finished\n",
      "[Parallel(n_jobs=3)]: Done  12 tasks      | elapsed:    1.4s\n"
     ]
    },
    {
     "name": "stdout",
     "output_type": "stream",
     "text": [
      "Reading sternberg_diam_038_AK-epo.fif ...\n",
      "    Found the data of interest:\n",
      "        t =    -500.00 ...    1500.00 ms\n",
      "        0 CTF compensation matrices available\n",
      "92 matching events found\n",
      "Applying baseline correction (mode: mean)\n",
      "Not setting metadata\n",
      "92 matching events found\n",
      "Applying baseline correction (mode: mean)\n",
      "Not setting metadata\n",
      "0 projection items activated\n"
     ]
    },
    {
     "name": "stderr",
     "output_type": "stream",
     "text": [
      "[Parallel(n_jobs=3)]: Done  64 out of  64 | elapsed:    2.6s finished\n",
      "[Parallel(n_jobs=3)]: Done  12 tasks      | elapsed:    1.4s\n"
     ]
    },
    {
     "name": "stdout",
     "output_type": "stream",
     "text": [
      "Reading sternberg_diam_053_AK-epo.fif ...\n",
      "    Found the data of interest:\n",
      "        t =    -500.00 ...    1500.00 ms\n",
      "        0 CTF compensation matrices available\n",
      "91 matching events found\n",
      "Applying baseline correction (mode: mean)\n",
      "Not setting metadata\n"
     ]
    },
    {
     "name": "stderr",
     "output_type": "stream",
     "text": [
      "[Parallel(n_jobs=3)]: Done  64 out of  64 | elapsed:    2.5s finished\n"
     ]
    },
    {
     "name": "stdout",
     "output_type": "stream",
     "text": [
      "91 matching events found\n",
      "Applying baseline correction (mode: mean)\n",
      "Not setting metadata\n",
      "0 projection items activated\n"
     ]
    },
    {
     "name": "stderr",
     "output_type": "stream",
     "text": [
      "[Parallel(n_jobs=3)]: Done  12 tasks      | elapsed:    1.4s\n"
     ]
    },
    {
     "name": "stdout",
     "output_type": "stream",
     "text": [
      "Reading sternberg_diam_068_AK-epo.fif ...\n",
      "    Found the data of interest:\n",
      "        t =    -500.00 ...    1500.00 ms\n",
      "        0 CTF compensation matrices available\n",
      "94 matching events found\n",
      "Applying baseline correction (mode: mean)\n"
     ]
    },
    {
     "name": "stderr",
     "output_type": "stream",
     "text": [
      "[Parallel(n_jobs=3)]: Done  64 out of  64 | elapsed:    2.5s finished\n"
     ]
    },
    {
     "name": "stdout",
     "output_type": "stream",
     "text": [
      "Not setting metadata\n",
      "94 matching events found\n",
      "Applying baseline correction (mode: mean)\n",
      "Not setting metadata\n",
      "0 projection items activated\n"
     ]
    },
    {
     "name": "stderr",
     "output_type": "stream",
     "text": [
      "[Parallel(n_jobs=3)]: Done  12 tasks      | elapsed:    1.4s\n"
     ]
    },
    {
     "name": "stdout",
     "output_type": "stream",
     "text": [
      "Reading sternberg_diam_077_AK-epo.fif ...\n",
      "    Found the data of interest:\n",
      "        t =    -500.00 ...    1500.00 ms\n",
      "        0 CTF compensation matrices available\n",
      "90 matching events found\n",
      "Applying baseline correction (mode: mean)\n",
      "Not setting metadata\n",
      "90 matching events found\n",
      "Applying baseline correction (mode: mean)\n",
      "Not setting metadata\n",
      "0 projection items activated\n"
     ]
    },
    {
     "name": "stderr",
     "output_type": "stream",
     "text": [
      "[Parallel(n_jobs=3)]: Done  64 out of  64 | elapsed:    2.7s finished\n",
      "[Parallel(n_jobs=3)]: Done  12 tasks      | elapsed:    1.4s\n"
     ]
    },
    {
     "name": "stdout",
     "output_type": "stream",
     "text": [
      "Reading sternberg_diam_086_AK-epo.fif ...\n",
      "    Found the data of interest:\n",
      "        t =    -500.00 ...    1500.00 ms\n",
      "        0 CTF compensation matrices available\n"
     ]
    },
    {
     "name": "stderr",
     "output_type": "stream",
     "text": [
      "[Parallel(n_jobs=3)]: Done  64 out of  64 | elapsed:    2.5s finished\n"
     ]
    },
    {
     "name": "stdout",
     "output_type": "stream",
     "text": [
      "86 matching events found\n",
      "Applying baseline correction (mode: mean)\n",
      "Not setting metadata\n",
      "86 matching events found\n",
      "Applying baseline correction (mode: mean)\n",
      "Not setting metadata\n",
      "0 projection items activated\n"
     ]
    },
    {
     "name": "stderr",
     "output_type": "stream",
     "text": [
      "[Parallel(n_jobs=3)]: Done  12 tasks      | elapsed:    1.4s\n"
     ]
    },
    {
     "name": "stdout",
     "output_type": "stream",
     "text": [
      "Reading sternberg_diam_097_AK-epo.fif ...\n",
      "    Found the data of interest:\n",
      "        t =    -500.00 ...    1500.00 ms\n",
      "        0 CTF compensation matrices available\n",
      "93 matching events found\n",
      "Applying baseline correction (mode: mean)\n",
      "Not setting metadata\n",
      "93 matching events found\n",
      "Applying baseline correction (mode: mean)\n",
      "Not setting metadata\n",
      "0 projection items activated\n"
     ]
    },
    {
     "name": "stderr",
     "output_type": "stream",
     "text": [
      "[Parallel(n_jobs=3)]: Done  64 out of  64 | elapsed:    2.7s finished\n",
      "[Parallel(n_jobs=3)]: Done  12 tasks      | elapsed:    1.4s\n"
     ]
    },
    {
     "name": "stdout",
     "output_type": "stream",
     "text": [
      "Reading sternberg_diam_100_AK-epo.fif ...\n",
      "    Found the data of interest:\n",
      "        t =    -500.00 ...    1500.00 ms\n",
      "        0 CTF compensation matrices available\n",
      "86 matching events found\n",
      "Applying baseline correction (mode: mean)\n",
      "Not setting metadata\n",
      "86 matching events found\n",
      "Applying baseline correction (mode: mean)\n",
      "Not setting metadata\n",
      "0 projection items activated\n"
     ]
    },
    {
     "name": "stderr",
     "output_type": "stream",
     "text": [
      "[Parallel(n_jobs=3)]: Done  64 out of  64 | elapsed:    2.6s finished\n",
      "[Parallel(n_jobs=3)]: Done  12 tasks      | elapsed:    1.3s\n"
     ]
    },
    {
     "name": "stdout",
     "output_type": "stream",
     "text": [
      "Reading sternberg_diam_103_AK-epo.fif ...\n",
      "    Found the data of interest:\n",
      "        t =    -500.00 ...    1500.00 ms\n",
      "        0 CTF compensation matrices available\n",
      "91 matching events found\n",
      "Applying baseline correction (mode: mean)\n",
      "Not setting metadata\n",
      "91 matching events found\n",
      "Applying baseline correction (mode: mean)\n",
      "Not setting metadata\n",
      "0 projection items activated\n"
     ]
    },
    {
     "name": "stderr",
     "output_type": "stream",
     "text": [
      "[Parallel(n_jobs=3)]: Done  64 out of  64 | elapsed:    2.5s finished\n",
      "[Parallel(n_jobs=3)]: Done  12 tasks      | elapsed:    1.4s\n"
     ]
    },
    {
     "name": "stdout",
     "output_type": "stream",
     "text": [
      "Reading sternberg_diam_105_AK-epo.fif ...\n",
      "    Found the data of interest:\n",
      "        t =    -500.00 ...    1500.00 ms\n",
      "        0 CTF compensation matrices available\n",
      "75 matching events found\n",
      "Applying baseline correction (mode: mean)\n",
      "Not setting metadata\n",
      "75 matching events found\n",
      "Applying baseline correction (mode: mean)\n",
      "Not setting metadata\n",
      "0 projection items activated\n"
     ]
    },
    {
     "name": "stderr",
     "output_type": "stream",
     "text": [
      "[Parallel(n_jobs=3)]: Done  64 out of  64 | elapsed:    2.6s finished\n",
      "[Parallel(n_jobs=3)]: Done  12 tasks      | elapsed:    1.4s\n",
      "[Parallel(n_jobs=3)]: Done  59 out of  64 | elapsed:    2.3s remaining:    0.1s\n",
      "[Parallel(n_jobs=3)]: Done  64 out of  64 | elapsed:    2.5s finished\n"
     ]
    },
    {
     "name": "stdout",
     "output_type": "stream",
     "text": [
      "Reading sternberg_diam_116_AK-epo.fif ...\n",
      "    Found the data of interest:\n",
      "        t =    -500.00 ...    1500.00 ms\n",
      "        0 CTF compensation matrices available\n",
      "90 matching events found\n",
      "Applying baseline correction (mode: mean)\n",
      "Not setting metadata\n",
      "90 matching events found\n",
      "Applying baseline correction (mode: mean)\n",
      "Not setting metadata\n",
      "0 projection items activated\n"
     ]
    },
    {
     "name": "stderr",
     "output_type": "stream",
     "text": [
      "[Parallel(n_jobs=3)]: Done  12 tasks      | elapsed:    1.4s\n"
     ]
    },
    {
     "name": "stdout",
     "output_type": "stream",
     "text": [
      "Reading sternberg_diam_118_AK-epo.fif ...\n",
      "    Found the data of interest:\n",
      "        t =    -500.00 ...    1500.00 ms\n",
      "        0 CTF compensation matrices available\n",
      "80 matching events found\n",
      "Applying baseline correction (mode: mean)\n",
      "Not setting metadata\n"
     ]
    },
    {
     "name": "stderr",
     "output_type": "stream",
     "text": [
      "[Parallel(n_jobs=3)]: Done  64 out of  64 | elapsed:    2.5s finished\n"
     ]
    },
    {
     "name": "stdout",
     "output_type": "stream",
     "text": [
      "80 matching events found\n",
      "Applying baseline correction (mode: mean)\n",
      "Not setting metadata\n",
      "0 projection items activated\n"
     ]
    },
    {
     "name": "stderr",
     "output_type": "stream",
     "text": [
      "[Parallel(n_jobs=3)]: Done  12 tasks      | elapsed:    1.4s\n"
     ]
    },
    {
     "name": "stdout",
     "output_type": "stream",
     "text": [
      "Reading sternberg_diam_120_AK-epo.fif ...\n",
      "    Found the data of interest:\n",
      "        t =    -500.00 ...    1500.00 ms\n",
      "        0 CTF compensation matrices available\n",
      "90 matching events found\n",
      "Applying baseline correction (mode: mean)\n",
      "Not setting metadata\n",
      "90 matching events found\n",
      "Applying baseline correction (mode: mean)\n",
      "Not setting metadata\n"
     ]
    },
    {
     "name": "stderr",
     "output_type": "stream",
     "text": [
      "[Parallel(n_jobs=3)]: Done  64 out of  64 | elapsed:    2.4s finished\n"
     ]
    },
    {
     "name": "stdout",
     "output_type": "stream",
     "text": [
      "0 projection items activated\n"
     ]
    },
    {
     "name": "stderr",
     "output_type": "stream",
     "text": [
      "[Parallel(n_jobs=3)]: Done  12 tasks      | elapsed:    1.4s\n",
      "[Parallel(n_jobs=3)]: Done  64 out of  64 | elapsed:    2.6s finished\n"
     ]
    }
   ],
   "source": [
    "tfrs = list()\n",
    "for fname in files:\n",
    "    tfr = daj_mnie_ten_tfr(fname)\n",
    "    tfrs.append(tfr)"
   ]
  },
  {
   "cell_type": "markdown",
   "metadata": {},
   "source": [
    "Tak, tylko tyle wystarczy aby przejść z poziomu pojedynczego pliku, na przetwarzanie wielu!\n",
    "W tym punkcie, jeżeli masz listę tfr'ów, możesz skorzystać z wygodnej funkcji mne python'a do uśredniania wielu tfr'ów.  \n",
    "Ale, ojej, zapomnieliśmy o jednej rzeczy! Chcielibyśmy aby każdy tfr był baseline-corrected. Całe szczęście każdy tfr ma metodę [`apply_baseline`](https://martinos.org/mne/stable/generated/mne.time_frequency.AverageTFR.html#mne.time_frequency.AverageTFR.apply_baseline) (tak, to poprzednie to link do dokumentacji oraz - tak, przeczytaj dokumentację metody `apply_baseline`).  \n",
    "\n",
    "Metoda `apply_baseline` działa, jak to mówią programiści *in-place* tzn. zmienia Wam waszą zmienną w pamięci komputera, nie musicie przechwytywać zmienionej kopii. W związku z tym nie musimy tworzyć nowej listy z tfr'ami zbaseline'owanymi - wystarczy jak przejedziemy pętlą przez wszystkie tfr w liście `tfrs` i dla każdego zastosujemy `apply_baseline`.\n",
    "(baseline robimy taki sam jak na ostatnich zajęciach):"
   ]
  },
  {
   "cell_type": "code",
   "execution_count": 7,
   "metadata": {},
   "outputs": [
    {
     "name": "stdout",
     "output_type": "stream",
     "text": [
      "Applying baseline correction (mode: percent)\n",
      "Applying baseline correction (mode: percent)\n",
      "Applying baseline correction (mode: percent)\n",
      "Applying baseline correction (mode: percent)\n",
      "Applying baseline correction (mode: percent)\n",
      "Applying baseline correction (mode: percent)\n",
      "Applying baseline correction (mode: percent)\n",
      "Applying baseline correction (mode: percent)\n",
      "Applying baseline correction (mode: percent)\n",
      "Applying baseline correction (mode: percent)\n",
      "Applying baseline correction (mode: percent)\n",
      "Applying baseline correction (mode: percent)\n",
      "Applying baseline correction (mode: percent)\n",
      "Applying baseline correction (mode: percent)\n",
      "Applying baseline correction (mode: percent)\n"
     ]
    }
   ],
   "source": [
    "for tfr in tfrs:\n",
    "    tfr.apply_baseline((-0.4, -0.1), mode='percent')"
   ]
  },
  {
   "cell_type": "code",
   "execution_count": 8,
   "metadata": {},
   "outputs": [
    {
     "name": "stdout",
     "output_type": "stream",
     "text": [
      "Using matplotlib backend: Qt5Agg\n"
     ]
    }
   ],
   "source": [
    "%matplotlib"
   ]
  },
  {
   "cell_type": "code",
   "execution_count": 9,
   "metadata": {
    "collapsed": true
   },
   "outputs": [],
   "source": [
    "tfr_avg = mne.grand_average(tfrs)"
   ]
  },
  {
   "cell_type": "code",
   "execution_count": 10,
   "metadata": {},
   "outputs": [
    {
     "name": "stdout",
     "output_type": "stream",
     "text": [
      "No baseline correction applied\n"
     ]
    },
    {
     "data": {
      "image/png": "[encoded data removed]",
      "text/plain": [
       "<matplotlib.figure.Figure at 0x266e059dac8>"
      ]
     },
     "execution_count": 10,
     "metadata": {},
     "output_type": "execute_result"
    },
    {
     "name": "stdout",
     "output_type": "stream",
     "text": [
      "No baseline correction applied\n",
      "Averaging TFR over channels ['Pz', 'P3', 'P7', 'O1', 'Oz', 'P1', 'P5', 'PO7', 'PO3', 'POz']\n",
      "No baseline correction applied\n",
      "No baseline correction applied\n",
      "No baseline correction applied\n"
     ]
    }
   ],
   "source": [
    "tfr_avg.plot_topo()"
   ]
  },
  {
   "cell_type": "markdown",
   "metadata": {},
   "source": [
    "## Analiza ROI"
   ]
  },
  {
   "cell_type": "code",
   "execution_count": 11,
   "metadata": {
    "collapsed": true
   },
   "outputs": [],
   "source": [
    "channel_oi = 'PO8'\n",
    "freq_oi = (9, 13)\n",
    "time_oi = (1., 1.4)"
   ]
  },
  {
   "cell_type": "code",
   "execution_count": 12,
   "metadata": {},
   "outputs": [
    {
     "name": "stdout",
     "output_type": "stream",
     "text": [
      "49\n"
     ]
    }
   ],
   "source": [
    "ch_idx = tfr_avg.ch_names.index(channel_oi)\n",
    "print(ch_idx)"
   ]
  },
  {
   "cell_type": "code",
   "execution_count": 13,
   "metadata": {
    "collapsed": true
   },
   "outputs": [],
   "source": [
    "from mypy.utils import find_range"
   ]
  },
  {
   "cell_type": "code",
   "execution_count": 14,
   "metadata": {
    "collapsed": true
   },
   "outputs": [],
   "source": [
    "foi = find_range(tfr_avg.freqs, freq_oi)\n",
    "toi = find_range(tfr_avg.times, time_oi)"
   ]
  },
  {
   "cell_type": "code",
   "execution_count": 18,
   "metadata": {},
   "outputs": [
    {
     "data": {
      "text/plain": [
       "(64, 17, 26)"
      ]
     },
     "execution_count": 18,
     "metadata": {},
     "output_type": "execute_result"
    }
   ],
   "source": [
    "tfr_avg.data.shape"
   ]
  },
  {
   "cell_type": "code",
   "execution_count": 19,
   "metadata": {},
   "outputs": [
    {
     "data": {
      "text/plain": [
       "(26,)"
      ]
     },
     "execution_count": 19,
     "metadata": {},
     "output_type": "execute_result"
    }
   ],
   "source": [
    "tfr_avg.times.shape"
   ]
  },
  {
   "cell_type": "code",
   "execution_count": 21,
   "metadata": {},
   "outputs": [
    {
     "data": {
      "text/plain": [
       "1.1432391743178607"
      ]
     },
     "execution_count": 21,
     "metadata": {},
     "output_type": "execute_result"
    }
   ],
   "source": [
    "avg = tfr_avg.data[ch_idx, foi, toi].mean()"
   ]
  },
  {
   "cell_type": "code",
   "execution_count": 22,
   "metadata": {
    "collapsed": true
   },
   "outputs": [],
   "source": [
    "def tfr_for_each_load(nazwa_pliku):\n",
    "    epochs = mne.read_epochs(nazwa_pliku, preload=True)\n",
    "    freq = np.arange(3, 20)\n",
    "    n_cycles = freq / 2.5\n",
    "    tfr_l2 = tfr_morlet(epochs['load_2'], freq, n_cycles, use_fft=True,\n",
    "                        return_itc=False, n_jobs=3, decim=20)\n",
    "    tfr_l4 = tfr_morlet(epochs['load_4'], freq, n_cycles, use_fft=True,\n",
    "                        return_itc=False, n_jobs=3, decim=20)\n",
    "    return tfr_l2, tfr_l4"
   ]
  },
  {
   "cell_type": "code",
   "execution_count": 23,
   "metadata": {},
   "outputs": [
    {
     "name": "stdout",
     "output_type": "stream",
     "text": [
      "Reading sternberg_diam_025_AK-epo.fif ...\n",
      "    Found the data of interest:\n",
      "        t =    -500.00 ...    1500.00 ms\n",
      "        0 CTF compensation matrices available\n",
      "91 matching events found\n",
      "Applying baseline correction (mode: mean)\n",
      "Not setting metadata\n",
      "91 matching events found\n",
      "Applying baseline correction (mode: mean)\n",
      "Not setting metadata\n",
      "0 projection items activated\n"
     ]
    },
    {
     "name": "stderr",
     "output_type": "stream",
     "text": [
      "[Parallel(n_jobs=3)]: Done  12 tasks      | elapsed:    1.4s\n",
      "[Parallel(n_jobs=3)]: Done  46 out of  64 | elapsed:    1.8s remaining:    0.7s\n",
      "[Parallel(n_jobs=3)]: Done  64 out of  64 | elapsed:    2.0s finished\n",
      "[Parallel(n_jobs=3)]: Done  12 tasks      | elapsed:    1.3s\n",
      "[Parallel(n_jobs=3)]: Done  46 out of  64 | elapsed:    1.8s remaining:    0.6s\n"
     ]
    },
    {
     "name": "stdout",
     "output_type": "stream",
     "text": [
      "Reading sternberg_diam_030_AK-epo.fif ...\n",
      "    Found the data of interest:\n",
      "        t =    -500.00 ...    1500.00 ms\n",
      "        0 CTF compensation matrices available\n",
      "86 matching events found\n",
      "Applying baseline correction (mode: mean)\n",
      "Not setting metadata\n"
     ]
    },
    {
     "name": "stderr",
     "output_type": "stream",
     "text": [
      "[Parallel(n_jobs=3)]: Done  64 out of  64 | elapsed:    2.0s finished\n"
     ]
    },
    {
     "name": "stdout",
     "output_type": "stream",
     "text": [
      "86 matching events found\n",
      "Applying baseline correction (mode: mean)\n",
      "Not setting metadata\n",
      "0 projection items activated\n"
     ]
    },
    {
     "name": "stderr",
     "output_type": "stream",
     "text": [
      "[Parallel(n_jobs=3)]: Done  12 tasks      | elapsed:    1.3s\n",
      "[Parallel(n_jobs=3)]: Done  46 out of  64 | elapsed:    1.7s remaining:    0.6s\n",
      "[Parallel(n_jobs=3)]: Done  64 out of  64 | elapsed:    1.9s finished\n",
      "[Parallel(n_jobs=3)]: Done  12 tasks      | elapsed:    1.3s\n"
     ]
    },
    {
     "name": "stdout",
     "output_type": "stream",
     "text": [
      "Reading sternberg_diam_037_AK-epo.fif ...\n",
      "    Found the data of interest:\n",
      "        t =    -500.00 ...    1500.00 ms\n",
      "        0 CTF compensation matrices available\n",
      "93 matching events found\n",
      "Applying baseline correction (mode: mean)\n",
      "Not setting metadata\n",
      "93 matching events found\n",
      "Applying baseline correction (mode: mean)\n",
      "Not setting metadata\n",
      "0 projection items activated\n"
     ]
    },
    {
     "name": "stderr",
     "output_type": "stream",
     "text": [
      "[Parallel(n_jobs=3)]: Done  64 out of  64 | elapsed:    2.0s finished\n",
      "[Parallel(n_jobs=3)]: Done  12 tasks      | elapsed:    1.3s\n",
      "[Parallel(n_jobs=3)]: Done  64 out of  64 | elapsed:    2.0s finished\n",
      "[Parallel(n_jobs=3)]: Done  12 tasks      | elapsed:    1.3s\n",
      "[Parallel(n_jobs=3)]: Done  46 out of  64 | elapsed:    1.8s remaining:    0.6s\n",
      "[Parallel(n_jobs=3)]: Done  64 out of  64 | elapsed:    2.0s finished\n"
     ]
    },
    {
     "name": "stdout",
     "output_type": "stream",
     "text": [
      "Reading sternberg_diam_038_AK-epo.fif ...\n",
      "    Found the data of interest:\n",
      "        t =    -500.00 ...    1500.00 ms\n",
      "        0 CTF compensation matrices available\n",
      "92 matching events found\n",
      "Applying baseline correction (mode: mean)\n",
      "Not setting metadata\n",
      "92 matching events found\n",
      "Applying baseline correction (mode: mean)\n",
      "Not setting metadata\n",
      "0 projection items activated\n"
     ]
    },
    {
     "name": "stderr",
     "output_type": "stream",
     "text": [
      "[Parallel(n_jobs=3)]: Done  12 tasks      | elapsed:    1.3s\n",
      "[Parallel(n_jobs=3)]: Done  46 out of  64 | elapsed:    1.8s remaining:    0.6s\n",
      "[Parallel(n_jobs=3)]: Done  64 out of  64 | elapsed:    2.0s finished\n",
      "[Parallel(n_jobs=3)]: Done  12 tasks      | elapsed:    1.4s\n"
     ]
    },
    {
     "name": "stdout",
     "output_type": "stream",
     "text": [
      "Reading sternberg_diam_053_AK-epo.fif ...\n",
      "    Found the data of interest:\n",
      "        t =    -500.00 ...    1500.00 ms\n",
      "        0 CTF compensation matrices available\n",
      "91 matching events found\n",
      "Applying baseline correction (mode: mean)\n",
      "Not setting metadata\n",
      "91 matching events found\n",
      "Applying baseline correction (mode: mean)\n",
      "Not setting metadata\n",
      "0 projection items activated\n"
     ]
    },
    {
     "name": "stderr",
     "output_type": "stream",
     "text": [
      "[Parallel(n_jobs=3)]: Done  64 out of  64 | elapsed:    2.1s finished\n",
      "[Parallel(n_jobs=3)]: Done  12 tasks      | elapsed:    1.2s\n",
      "[Parallel(n_jobs=3)]: Done  64 out of  64 | elapsed:    1.8s finished\n",
      "[Parallel(n_jobs=3)]: Done  12 tasks      | elapsed:    1.2s\n",
      "[Parallel(n_jobs=3)]: Done  33 out of  64 | elapsed:    1.5s remaining:    1.4s\n"
     ]
    },
    {
     "name": "stdout",
     "output_type": "stream",
     "text": [
      "Reading sternberg_diam_068_AK-epo.fif ...\n",
      "    Found the data of interest:\n",
      "        t =    -500.00 ...    1500.00 ms\n",
      "        0 CTF compensation matrices available\n",
      "94 matching events found\n",
      "Applying baseline correction (mode: mean)\n",
      "Not setting metadata\n",
      "94 matching events found\n",
      "Applying baseline correction (mode: mean)\n",
      "Not setting metadata\n",
      "0 projection items activated\n"
     ]
    },
    {
     "name": "stderr",
     "output_type": "stream",
     "text": [
      "[Parallel(n_jobs=3)]: Done  64 out of  64 | elapsed:    1.9s finished\n",
      "[Parallel(n_jobs=3)]: Done  12 tasks      | elapsed:    1.2s\n",
      "[Parallel(n_jobs=3)]: Done  33 out of  64 | elapsed:    1.5s remaining:    1.4s\n",
      "[Parallel(n_jobs=3)]: Done  64 out of  64 | elapsed:    1.9s finished\n",
      "[Parallel(n_jobs=3)]: Done  12 tasks      | elapsed:    1.2s\n"
     ]
    },
    {
     "name": "stdout",
     "output_type": "stream",
     "text": [
      "Reading sternberg_diam_077_AK-epo.fif ...\n",
      "    Found the data of interest:\n",
      "        t =    -500.00 ...    1500.00 ms\n",
      "        0 CTF compensation matrices available\n",
      "90 matching events found\n",
      "Applying baseline correction (mode: mean)\n",
      "Not setting metadata\n",
      "90 matching events found\n",
      "Applying baseline correction (mode: mean)\n",
      "Not setting metadata\n",
      "0 projection items activated\n"
     ]
    },
    {
     "name": "stderr",
     "output_type": "stream",
     "text": [
      "[Parallel(n_jobs=3)]: Done  64 out of  64 | elapsed:    1.9s finished\n",
      "[Parallel(n_jobs=3)]: Done  12 tasks      | elapsed:    1.2s\n",
      "[Parallel(n_jobs=3)]: Done  33 out of  64 | elapsed:    1.5s remaining:    1.4s\n",
      "[Parallel(n_jobs=3)]: Done  64 out of  64 | elapsed:    1.9s finished\n",
      "[Parallel(n_jobs=3)]: Done  12 tasks      | elapsed:    1.2s\n",
      "[Parallel(n_jobs=3)]: Done  33 out of  64 | elapsed:    1.5s remaining:    1.4s\n"
     ]
    },
    {
     "name": "stdout",
     "output_type": "stream",
     "text": [
      "Reading sternberg_diam_086_AK-epo.fif ...\n",
      "    Found the data of interest:\n",
      "        t =    -500.00 ...    1500.00 ms\n",
      "        0 CTF compensation matrices available\n",
      "86 matching events found\n",
      "Applying baseline correction (mode: mean)\n",
      "Not setting metadata\n"
     ]
    },
    {
     "name": "stderr",
     "output_type": "stream",
     "text": [
      "[Parallel(n_jobs=3)]: Done  64 out of  64 | elapsed:    1.9s finished\n"
     ]
    },
    {
     "name": "stdout",
     "output_type": "stream",
     "text": [
      "86 matching events found\n",
      "Applying baseline correction (mode: mean)\n",
      "Not setting metadata\n",
      "0 projection items activated\n"
     ]
    },
    {
     "name": "stderr",
     "output_type": "stream",
     "text": [
      "[Parallel(n_jobs=3)]: Done  12 tasks      | elapsed:    1.2s\n",
      "[Parallel(n_jobs=3)]: Done  33 out of  64 | elapsed:    1.4s remaining:    1.4s\n",
      "[Parallel(n_jobs=3)]: Done  64 out of  64 | elapsed:    1.9s finished\n",
      "[Parallel(n_jobs=3)]: Done  12 tasks      | elapsed:    1.2s\n",
      "[Parallel(n_jobs=3)]: Done  46 out of  64 | elapsed:    1.7s remaining:    0.6s\n",
      "[Parallel(n_jobs=3)]: Done  64 out of  64 | elapsed:    1.9s finished\n"
     ]
    },
    {
     "name": "stdout",
     "output_type": "stream",
     "text": [
      "Reading sternberg_diam_097_AK-epo.fif ...\n",
      "    Found the data of interest:\n",
      "        t =    -500.00 ...    1500.00 ms\n",
      "        0 CTF compensation matrices available\n",
      "93 matching events found\n",
      "Applying baseline correction (mode: mean)\n",
      "Not setting metadata\n",
      "93 matching events found\n",
      "Applying baseline correction (mode: mean)\n",
      "Not setting metadata\n",
      "0 projection items activated\n"
     ]
    },
    {
     "name": "stderr",
     "output_type": "stream",
     "text": [
      "[Parallel(n_jobs=3)]: Done  12 tasks      | elapsed:    1.2s\n",
      "[Parallel(n_jobs=3)]: Done  33 out of  64 | elapsed:    1.5s remaining:    1.4s\n",
      "[Parallel(n_jobs=3)]: Done  64 out of  64 | elapsed:    1.9s finished\n",
      "[Parallel(n_jobs=3)]: Done  12 tasks      | elapsed:    1.3s\n",
      "[Parallel(n_jobs=3)]: Done  46 out of  64 | elapsed:    1.7s remaining:    0.6s\n"
     ]
    },
    {
     "name": "stdout",
     "output_type": "stream",
     "text": [
      "Reading sternberg_diam_100_AK-epo.fif ...\n",
      "    Found the data of interest:\n",
      "        t =    -500.00 ...    1500.00 ms\n",
      "        0 CTF compensation matrices available\n",
      "86 matching events found\n",
      "Applying baseline correction (mode: mean)\n",
      "Not setting metadata\n"
     ]
    },
    {
     "name": "stderr",
     "output_type": "stream",
     "text": [
      "[Parallel(n_jobs=3)]: Done  64 out of  64 | elapsed:    1.9s finished\n"
     ]
    },
    {
     "name": "stdout",
     "output_type": "stream",
     "text": [
      "86 matching events found\n",
      "Applying baseline correction (mode: mean)\n",
      "Not setting metadata\n",
      "0 projection items activated\n"
     ]
    },
    {
     "name": "stderr",
     "output_type": "stream",
     "text": [
      "[Parallel(n_jobs=3)]: Done  12 tasks      | elapsed:    1.2s\n",
      "[Parallel(n_jobs=3)]: Done  33 out of  64 | elapsed:    1.4s remaining:    1.3s\n",
      "[Parallel(n_jobs=3)]: Done  64 out of  64 | elapsed:    1.8s finished\n",
      "[Parallel(n_jobs=3)]: Done  12 tasks      | elapsed:    1.2s\n",
      "[Parallel(n_jobs=3)]: Done  33 out of  64 | elapsed:    1.5s remaining:    1.4s\n"
     ]
    },
    {
     "name": "stdout",
     "output_type": "stream",
     "text": [
      "Reading sternberg_diam_103_AK-epo.fif ...\n",
      "    Found the data of interest:\n",
      "        t =    -500.00 ...    1500.00 ms\n",
      "        0 CTF compensation matrices available\n",
      "91 matching events found\n",
      "Applying baseline correction (mode: mean)\n",
      "Not setting metadata\n",
      "91 matching events found\n",
      "Applying baseline correction (mode: mean)\n",
      "Not setting metadata\n",
      "0 projection items activated\n"
     ]
    },
    {
     "name": "stderr",
     "output_type": "stream",
     "text": [
      "[Parallel(n_jobs=3)]: Done  64 out of  64 | elapsed:    1.9s finished\n",
      "[Parallel(n_jobs=3)]: Done  12 tasks      | elapsed:    1.2s\n",
      "[Parallel(n_jobs=3)]: Done  33 out of  64 | elapsed:    1.4s remaining:    1.3s\n",
      "[Parallel(n_jobs=3)]: Done  64 out of  64 | elapsed:    1.8s finished\n",
      "[Parallel(n_jobs=3)]: Done  12 tasks      | elapsed:    1.3s\n"
     ]
    },
    {
     "name": "stdout",
     "output_type": "stream",
     "text": [
      "Reading sternberg_diam_105_AK-epo.fif ...\n",
      "    Found the data of interest:\n",
      "        t =    -500.00 ...    1500.00 ms\n",
      "        0 CTF compensation matrices available\n",
      "75 matching events found\n",
      "Applying baseline correction (mode: mean)\n",
      "Not setting metadata\n",
      "75 matching events found\n",
      "Applying baseline correction (mode: mean)\n",
      "Not setting metadata\n",
      "0 projection items activated\n"
     ]
    },
    {
     "name": "stderr",
     "output_type": "stream",
     "text": [
      "[Parallel(n_jobs=3)]: Done  64 out of  64 | elapsed:    1.9s finished\n",
      "[Parallel(n_jobs=3)]: Done  12 tasks      | elapsed:    1.2s\n",
      "[Parallel(n_jobs=3)]: Done  33 out of  64 | elapsed:    1.4s remaining:    1.3s\n",
      "[Parallel(n_jobs=3)]: Done  64 out of  64 | elapsed:    1.8s finished\n",
      "[Parallel(n_jobs=3)]: Done  12 tasks      | elapsed:    1.2s\n",
      "[Parallel(n_jobs=3)]: Done  33 out of  64 | elapsed:    1.4s remaining:    1.3s\n"
     ]
    },
    {
     "name": "stdout",
     "output_type": "stream",
     "text": [
      "Reading sternberg_diam_116_AK-epo.fif ...\n",
      "    Found the data of interest:\n",
      "        t =    -500.00 ...    1500.00 ms\n",
      "        0 CTF compensation matrices available\n",
      "90 matching events found\n",
      "Applying baseline correction (mode: mean)\n",
      "Not setting metadata\n",
      "90 matching events found\n",
      "Applying baseline correction (mode: mean)\n",
      "Not setting metadata\n",
      "0 projection items activated\n"
     ]
    },
    {
     "name": "stderr",
     "output_type": "stream",
     "text": [
      "[Parallel(n_jobs=3)]: Done  64 out of  64 | elapsed:    1.8s finished\n",
      "[Parallel(n_jobs=3)]: Done  12 tasks      | elapsed:    1.3s\n",
      "[Parallel(n_jobs=3)]: Done  33 out of  64 | elapsed:    1.5s remaining:    1.4s\n",
      "[Parallel(n_jobs=3)]: Done  64 out of  64 | elapsed:    1.9s finished\n",
      "[Parallel(n_jobs=3)]: Done  12 tasks      | elapsed:    1.3s\n",
      "[Parallel(n_jobs=3)]: Done  33 out of  64 | elapsed:    1.5s remaining:    1.4s\n"
     ]
    },
    {
     "name": "stdout",
     "output_type": "stream",
     "text": [
      "Reading sternberg_diam_118_AK-epo.fif ...\n",
      "    Found the data of interest:\n",
      "        t =    -500.00 ...    1500.00 ms\n",
      "        0 CTF compensation matrices available\n",
      "80 matching events found\n",
      "Applying baseline correction (mode: mean)\n",
      "Not setting metadata\n",
      "80 matching events found\n",
      "Applying baseline correction (mode: mean)\n",
      "Not setting metadata\n",
      "0 projection items activated\n"
     ]
    },
    {
     "name": "stderr",
     "output_type": "stream",
     "text": [
      "[Parallel(n_jobs=3)]: Done  64 out of  64 | elapsed:    1.9s finished\n",
      "[Parallel(n_jobs=3)]: Done  12 tasks      | elapsed:    1.2s\n",
      "[Parallel(n_jobs=3)]: Done  33 out of  64 | elapsed:    1.5s remaining:    1.4s\n",
      "[Parallel(n_jobs=3)]: Done  64 out of  64 | elapsed:    1.9s finished\n",
      "[Parallel(n_jobs=3)]: Done  12 tasks      | elapsed:    1.3s\n",
      "[Parallel(n_jobs=3)]: Done  33 out of  64 | elapsed:    1.4s remaining:    1.4s\n"
     ]
    },
    {
     "name": "stdout",
     "output_type": "stream",
     "text": [
      "Reading sternberg_diam_120_AK-epo.fif ...\n",
      "    Found the data of interest:\n",
      "        t =    -500.00 ...    1500.00 ms\n",
      "        0 CTF compensation matrices available\n",
      "90 matching events found\n",
      "Applying baseline correction (mode: mean)\n",
      "Not setting metadata\n",
      "90 matching events found\n",
      "Applying baseline correction (mode: mean)\n",
      "Not setting metadata\n",
      "0 projection items activated\n"
     ]
    },
    {
     "name": "stderr",
     "output_type": "stream",
     "text": [
      "[Parallel(n_jobs=3)]: Done  64 out of  64 | elapsed:    1.8s finished\n",
      "[Parallel(n_jobs=3)]: Done  12 tasks      | elapsed:    1.2s\n",
      "[Parallel(n_jobs=3)]: Done  64 out of  64 | elapsed:    1.9s finished\n",
      "[Parallel(n_jobs=3)]: Done  12 tasks      | elapsed:    1.2s\n",
      "[Parallel(n_jobs=3)]: Done  33 out of  64 | elapsed:    1.5s remaining:    1.4s\n",
      "[Parallel(n_jobs=3)]: Done  64 out of  64 | elapsed:    2.0s finished\n"
     ]
    }
   ],
   "source": [
    "tfrs_l2 = list()\n",
    "tfrs_l4 = list()\n",
    "\n",
    "for fname in files:\n",
    "    tfr_l2, tfr_l4 = tfr_for_each_load(fname)\n",
    "    tfrs_l2.append(tfr_l2)\n",
    "    tfrs_l4.append(tfr_l4)"
   ]
  },
  {
   "cell_type": "code",
   "execution_count": 25,
   "metadata": {},
   "outputs": [
    {
     "name": "stdout",
     "output_type": "stream",
     "text": [
      "Applying baseline correction (mode: percent)\n",
      "Applying baseline correction (mode: percent)\n",
      "Applying baseline correction (mode: percent)\n",
      "Applying baseline correction (mode: percent)\n",
      "Applying baseline correction (mode: percent)\n",
      "Applying baseline correction (mode: percent)\n",
      "Applying baseline correction (mode: percent)\n",
      "Applying baseline correction (mode: percent)\n",
      "Applying baseline correction (mode: percent)\n",
      "Applying baseline correction (mode: percent)\n",
      "Applying baseline correction (mode: percent)\n",
      "Applying baseline correction (mode: percent)\n",
      "Applying baseline correction (mode: percent)\n",
      "Applying baseline correction (mode: percent)\n",
      "Applying baseline correction (mode: percent)\n",
      "Applying baseline correction (mode: percent)\n",
      "Applying baseline correction (mode: percent)\n",
      "Applying baseline correction (mode: percent)\n",
      "Applying baseline correction (mode: percent)\n",
      "Applying baseline correction (mode: percent)\n",
      "Applying baseline correction (mode: percent)\n",
      "Applying baseline correction (mode: percent)\n",
      "Applying baseline correction (mode: percent)\n",
      "Applying baseline correction (mode: percent)\n",
      "Applying baseline correction (mode: percent)\n",
      "Applying baseline correction (mode: percent)\n",
      "Applying baseline correction (mode: percent)\n",
      "Applying baseline correction (mode: percent)\n",
      "Applying baseline correction (mode: percent)\n",
      "Applying baseline correction (mode: percent)\n"
     ]
    }
   ],
   "source": [
    "for tfrl2, tfrl4 in zip(tfrs_l2, tfrs_l4):\n",
    "    tfrl2.apply_baseline((-0.4, -0.1), mode='percent')\n",
    "    tfrl4.apply_baseline((-0.4, -0.1), mode='percent')"
   ]
  },
  {
   "cell_type": "code",
   "execution_count": 33,
   "metadata": {},
   "outputs": [],
   "source": [
    "avg_l2 = list()\n",
    "avg_l4 = list()\n",
    "\n",
    "for tfrl2 in tfrs_l2:\n",
    "    avg_l2.append(tfrl2.data[ch_idx, foi, toi].mean())\n",
    "    \n",
    "for tfrl4 in tfrs_l4:\n",
    "    avg_l4.append(tfrl4.data[ch_idx, foi, toi].mean())\n",
    "\n",
    "avg_l2 = np.array(avg_l2)\n",
    "avg_l4 = np.array(avg_l4)"
   ]
  },
  {
   "cell_type": "code",
   "execution_count": 36,
   "metadata": {},
   "outputs": [],
   "source": [
    "import seaborn as sns"
   ]
  },
  {
   "cell_type": "code",
   "execution_count": 40,
   "metadata": {},
   "outputs": [
    {
     "data": {
      "text/plain": [
       "<matplotlib.axes._subplots.AxesSubplot at 0x266e9e39c18>"
      ]
     },
     "execution_count": 40,
     "metadata": {},
     "output_type": "execute_result"
    }
   ],
   "source": [
    "sns.violinplot(x=['load2'] * len(avg_l2) + ['load4'] * len(avg_l2),\n",
    "               y=np.concatenate([avg_l2, avg_l4]))"
   ]
  },
  {
   "cell_type": "code",
   "execution_count": 41,
   "metadata": {
    "collapsed": true
   },
   "outputs": [],
   "source": [
    "from scipy.stats import ttest_rel"
   ]
  },
  {
   "cell_type": "code",
   "execution_count": 42,
   "metadata": {
    "collapsed": true
   },
   "outputs": [],
   "source": [
    "t, p = ttest_rel(avg_l4, avg_l2)"
   ]
  },
  {
   "cell_type": "code",
   "execution_count": 45,
   "metadata": {},
   "outputs": [
    {
     "name": "stdout",
     "output_type": "stream",
     "text": [
      "0.59141151663 0.563672810023\n"
     ]
    }
   ],
   "source": [
    "print(t, p)"
   ]
  },
  {
   "cell_type": "code",
   "execution_count": 47,
   "metadata": {},
   "outputs": [],
   "source": [
    "fig, ch_list = epochs.plot_sensors(kind='select')"
   ]
  },
  {
   "cell_type": "code",
   "execution_count": 51,
   "metadata": {},
   "outputs": [],
   "source": [
    "ch_names = ch_list.copy()"
   ]
  },
  {
   "cell_type": "code",
   "execution_count": 52,
   "metadata": {
    "collapsed": true
   },
   "outputs": [],
   "source": [
    "from mypy.chans import find_channels"
   ]
  },
  {
   "cell_type": "code",
   "execution_count": 56,
   "metadata": {},
   "outputs": [],
   "source": [
    "ch_idx = find_channels(epochs, ch_names)"
   ]
  },
  {
   "cell_type": "code",
   "execution_count": 57,
   "metadata": {
    "collapsed": true
   },
   "outputs": [],
   "source": [
    "avg_l2 = list()\n",
    "avg_l4 = list()\n",
    "\n",
    "for tfrl2 in tfrs_l2:\n",
    "    avg_l2.append(tfrl2.data[ch_idx, foi, toi].mean())\n",
    "    \n",
    "for tfrl4 in tfrs_l4:\n",
    "    avg_l4.append(tfrl4.data[ch_idx, foi, toi].mean())\n",
    "\n",
    "avg_l2 = np.array(avg_l2)\n",
    "avg_l4 = np.array(avg_l4)"
   ]
  },
  {
   "cell_type": "code",
   "execution_count": 58,
   "metadata": {
    "collapsed": true
   },
   "outputs": [],
   "source": [
    "t, p = ttest_rel(avg_l4, avg_l2)"
   ]
  },
  {
   "cell_type": "code",
   "execution_count": 59,
   "metadata": {},
   "outputs": [
    {
     "name": "stdout",
     "output_type": "stream",
     "text": [
      "0.208214183462 0.838060420728\n"
     ]
    }
   ],
   "source": [
    "print(t, p)"
   ]
  },
  {
   "cell_type": "markdown",
   "metadata": {},
   "source": [
    "## porzucamy ROI"
   ]
  },
  {
   "cell_type": "code",
   "execution_count": 61,
   "metadata": {},
   "outputs": [],
   "source": [
    "test_avg = tfrs_l2[3].data[ch_idx].mean(axis=0)"
   ]
  },
  {
   "cell_type": "code",
   "execution_count": 63,
   "metadata": {},
   "outputs": [
    {
     "data": {
      "text/plain": [
       "<matplotlib.image.AxesImage at 0x266ec25cfd0>"
      ]
     },
     "execution_count": 63,
     "metadata": {},
     "output_type": "execute_result"
    }
   ],
   "source": [
    "plt.imshow(test_avg)"
   ]
  },
  {
   "cell_type": "code",
   "execution_count": 65,
   "metadata": {},
   "outputs": [
    {
     "data": {
      "text/plain": [
       "(<matplotlib.axes._subplots.AxesSubplot at 0x266ec3905f8>,\n",
       " <matplotlib.colorbar.Colorbar at 0x266ebeeb160>)"
      ]
     },
     "execution_count": 65,
     "metadata": {},
     "output_type": "execute_result"
    }
   ],
   "source": [
    "import mypy\n",
    "mypy.viz.heatmap(test_avg, x_axis=tfrs_l2[3].times, y_axis=tfrs_l2[3].freqs)"
   ]
  },
  {
   "cell_type": "code",
   "execution_count": 66,
   "metadata": {
    "collapsed": true
   },
   "outputs": [],
   "source": [
    "avg_l2 = list()\n",
    "avg_l4 = list()\n",
    "\n",
    "for tfrl2 in tfrs_l2:\n",
    "    avg_l2.append(tfrl2.data[ch_idx].mean(axis=0))\n",
    "    \n",
    "for tfrl4 in tfrs_l4:\n",
    "    avg_l4.append(tfrl4.data[ch_idx].mean(axis=0))"
   ]
  },
  {
   "cell_type": "code",
   "execution_count": 70,
   "metadata": {},
   "outputs": [
    {
     "data": {
      "text/plain": [
       "(17, 26)"
      ]
     },
     "execution_count": 70,
     "metadata": {},
     "output_type": "execute_result"
    }
   ],
   "source": [
    "avg_l2[3].shape"
   ]
  },
  {
   "cell_type": "code",
   "execution_count": 72,
   "metadata": {},
   "outputs": [],
   "source": [
    "avg_l2 = np.stack(avg_l2, axis=0)\n",
    "avg_l4 = np.stack(avg_l4, axis=0)"
   ]
  },
  {
   "cell_type": "code",
   "execution_count": 73,
   "metadata": {
    "collapsed": true
   },
   "outputs": [],
   "source": [
    "t_values, p_values = ttest_rel(avg_l2, avg_l4, axis=0)"
   ]
  },
  {
   "cell_type": "code",
   "execution_count": 74,
   "metadata": {},
   "outputs": [
    {
     "data": {
      "text/plain": [
       "(17, 26)"
      ]
     },
     "execution_count": 74,
     "metadata": {},
     "output_type": "execute_result"
    }
   ],
   "source": [
    "t_values.shape"
   ]
  },
  {
   "cell_type": "code",
   "execution_count": 91,
   "metadata": {},
   "outputs": [
    {
     "data": {
      "text/plain": [
       "(<matplotlib.axes._subplots.AxesSubplot at 0x266ed6db2e8>,\n",
       " <matplotlib.colorbar.Colorbar at 0x266ed6ccd68>)"
      ]
     },
     "execution_count": 91,
     "metadata": {},
     "output_type": "execute_result"
    }
   ],
   "source": [
    "mypy.viz.heatmap(t_values, x_axis=tfrs_l2[3].times, y_axis=tfrs_l2[3].freqs,\n",
    "                 mask=p_values < 0.05, outlines=True)"
   ]
  },
  {
   "cell_type": "code",
   "execution_count": 81,
   "metadata": {},
   "outputs": [],
   "source": [
    "reject, p_value_corrected = mne.stats.fdr_correction(p_values)"
   ]
  },
  {
   "cell_type": "code",
   "execution_count": 84,
   "metadata": {},
   "outputs": [
    {
     "data": {
      "text/plain": [
       "False"
      ]
     },
     "execution_count": 84,
     "metadata": {},
     "output_type": "execute_result"
    }
   ],
   "source": [
    "reject.any()"
   ]
  },
  {
   "cell_type": "code",
   "execution_count": 86,
   "metadata": {},
   "outputs": [
    {
     "data": {
      "text/plain": [
       "(15, 17, 26)"
      ]
     },
     "execution_count": 86,
     "metadata": {},
     "output_type": "execute_result"
    }
   ],
   "source": [
    "avg_l4.shape"
   ]
  },
  {
   "cell_type": "code",
   "execution_count": 88,
   "metadata": {
    "collapsed": true
   },
   "outputs": [],
   "source": [
    "from mne.stats.cluster_level import permutation_cluster_test"
   ]
  },
  {
   "cell_type": "code",
   "execution_count": 90,
   "metadata": {},
   "outputs": [
    {
     "name": "stdout",
     "output_type": "stream",
     "text": [
      "stat_fun(H1): min=-3.841106 max=4.953321\n",
      "Running initial clustering\n",
      "Found 7 clusters\n",
      "Permuting 9999 times...\n",
      "[....................................... ] 99.84998 |    Computing cluster p-values\n",
      "Done.\n"
     ]
    }
   ],
   "source": [
    "def ttest_rel_no_p(*arg):\n",
    "    t, p = ttest_rel(*arg)\n",
    "    return t\n",
    "\n",
    "t_values, clusters, cluster_p_value, _ = permutation_cluster_test(\n",
    "    [avg_l4, avg_l2], stat_fun=ttest_rel_no_p, threshold=2., n_permutations=10000)"
   ]
  },
  {
   "cell_type": "code",
   "execution_count": 92,
   "metadata": {},
   "outputs": [
    {
     "data": {
      "text/plain": [
       "array([ 0.7026,  0.8186,  0.36  ,  0.0252,  0.1184,  0.4771,  0.1354])"
      ]
     },
     "execution_count": 92,
     "metadata": {},
     "output_type": "execute_result"
    }
   ],
   "source": [
    "cluster_p_value"
   ]
  },
  {
   "cell_type": "code",
   "execution_count": 94,
   "metadata": {},
   "outputs": [
    {
     "data": {
      "text/plain": [
       "(<matplotlib.axes._subplots.AxesSubplot at 0x266ed6ee550>,\n",
       " <matplotlib.colorbar.Colorbar at 0x266ed8335f8>)"
      ]
     },
     "execution_count": 94,
     "metadata": {},
     "output_type": "execute_result"
    }
   ],
   "source": [
    "mypy.viz.heatmap(t_values, x_axis=tfrs_l2[3].times, y_axis=tfrs_l2[3].freqs,\n",
    "                 mask=clusters[3], outlines=True)"
   ]
  },
  {
   "cell_type": "code",
   "execution_count": null,
   "metadata": {
    "collapsed": true
   },
   "outputs": [],
   "source": []
  }
 ],
 "metadata": {
  "kernelspec": {
   "display_name": "Python 3",
   "language": "python",
   "name": "python3"
  },
  "language_info": {
   "codemirror_mode": {
    "name": "ipython",
    "version": 3
   },
   "file_extension": ".py",
   "mimetype": "text/x-python",
   "name": "python",
   "nbconvert_exporter": "python",
   "pygments_lexer": "ipython3",
   "version": "3.6.3"
  }
 },
 "nbformat": 4,
 "nbformat_minor": 2
}
